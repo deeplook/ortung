{
 "cells": [
  {
   "cell_type": "markdown",
   "metadata": {},
   "source": [
    "# Simple ORT UI\n",
    "\n",
    "This is only a proof of concept using basic widgets provided by `ipywidget`. "
   ]
  },
  {
   "cell_type": "code",
   "execution_count": null,
   "metadata": {},
   "outputs": [],
   "source": [
    "import re\n",
    "import os\n",
    "import shutil\n",
    "import tempfile\n",
    "from os.path import expanduser, exists, join\n",
    "from functools import partial"
   ]
  },
  {
   "cell_type": "code",
   "execution_count": null,
   "metadata": {},
   "outputs": [],
   "source": [
    "from IPython.display import display\n",
    "from ipywidgets import HTML, Tab, HBox, VBox, Button, ButtonStyle, Layout, Textarea, Text, Output, Dropdown, Checkbox\n",
    "from halo import HaloNotebook"
   ]
  },
  {
   "cell_type": "code",
   "execution_count": null,
   "metadata": {},
   "outputs": [],
   "source": [
    "from ortung import clone_repo"
   ]
  },
  {
   "cell_type": "markdown",
   "metadata": {},
   "source": [
    "## Callbacks"
   ]
  },
  {
   "cell_type": "code",
   "execution_count": null,
   "metadata": {},
   "outputs": [],
   "source": [
    "output = Output()"
   ]
  },
  {
   "cell_type": "code",
   "execution_count": null,
   "metadata": {},
   "outputs": [],
   "source": [
    "@output.capture()\n",
    "def clone_repo_clicked(button,\n",
    "               source=None, url=None, branch=None, dest_dir=None,\n",
    "               overwrite=True, verbose=False):\n",
    "    \"\"\"Clone a repo into some destination folder.\n",
    "    \"\"\"\n",
    "    dest_dir = dest_dir or expanduser(\"~/tmp\")\n",
    "    assert os.path.exists(dest_dir)\n",
    "\n",
    "    source = source.value\n",
    "    url = url.value\n",
    "    branch = branch.value\n",
    "\n",
    "    # determine repo full URL, owner and name \n",
    "    if re.match(\"http[s]\\://.*\\.git\", url):\n",
    "        full_url = url\n",
    "        owner, repo = full_url[:-4].split(\"/\")[-2:]\n",
    "    elif source == \"GitHub\":\n",
    "        full_url = f\"https://github.com/\"\n",
    "        if \"/\" in url:\n",
    "            if url.endswith(\".git\"):\n",
    "                full_url += url\n",
    "            else:\n",
    "                full_url += f\"{url}.git\"\n",
    "        owner, repo = full_url[:-4].split(\"/\")[-2:]\n",
    "\n",
    "    if verbose:\n",
    "        with output:\n",
    "            print(f\"{url} {dest_dir} {full_url} {owner} {repo}\")    \n",
    "    with HaloNotebook(text=f\"Cloning {full_url}\", spinner='dots'):\n",
    "        out = clone_repo(full_url, branch=branch, dest_dir=dest_dir)"
   ]
  },
  {
   "cell_type": "markdown",
   "metadata": {},
   "source": [
    "## UI"
   ]
  },
  {
   "cell_type": "code",
   "execution_count": null,
   "metadata": {},
   "outputs": [],
   "source": [
    "# defaults\n",
    "repo = \"https://github.com/jshttp/mime-types.git\"\n",
    "branch = \"2.1.18\""
   ]
  },
  {
   "cell_type": "code",
   "execution_count": null,
   "metadata": {},
   "outputs": [],
   "source": [
    "# UI\n",
    "layout = Layout(width=\"100%\")\n",
    "layout1 = Layout(width=\"75%\")\n",
    "title = HTML(\"<strong>ORT Scan for Repository</strong>\")\n",
    "source_dd = Dropdown(description=\"Source\", options=[\"\", \"GitHub\", \"GitLab\", \"BitBucket\"])\n",
    "url_tx = Text(description=\"Name/URL\", value=repo, layout=layout1)\n",
    "branch_tx = Text(description=\"Branch/tag/commit\", value=branch, layout=layout1)\n",
    "style = ButtonStyle(button_color='#48dad0')\n",
    "overwrite_cb = Checkbox(description=\"Overwrite\", value=False)\n",
    "verbose_cb = Checkbox(description=\"Verbose\", value=False)\n",
    "start_btn = Button(description=\"Start\", style=style)\n",
    "\n",
    "source = source_dd.value\n",
    "url = url_tx.value\n",
    "branch = branch_tx.value\n",
    "overwrite = overwrite_cb.value\n",
    "verbose = verbose_cb.value\n",
    "\n",
    "callback = partial(clone_repo_clicked, \n",
    "                   source=source_dd, url=url_tx, branch=branch_tx,\n",
    "                   overwrite=overwrite, verbose=verbose)\n",
    "start_btn.on_click(callback)\n",
    "\n",
    "ui = VBox(children=[\n",
    "    title, \n",
    "    source_dd, \n",
    "    url_tx, \n",
    "    branch_tx, \n",
    "    HBox(children=[overwrite_cb, verbose_cb]), \n",
    "    start_btn, \n",
    "    output\n",
    "], layout=layout)"
   ]
  },
  {
   "cell_type": "code",
   "execution_count": null,
   "metadata": {},
   "outputs": [],
   "source": [
    "ui"
   ]
  }
 ],
 "metadata": {
  "kernelspec": {
   "display_name": "Python 3",
   "language": "python",
   "name": "python3"
  },
  "language_info": {
   "codemirror_mode": {
    "name": "ipython",
    "version": 3
   },
   "file_extension": ".py",
   "mimetype": "text/x-python",
   "name": "python",
   "nbconvert_exporter": "python",
   "pygments_lexer": "ipython3",
   "version": "3.7.3"
  },
  "nteract": {
   "version": "0.15.0"
  }
 },
 "nbformat": 4,
 "nbformat_minor": 4
}
