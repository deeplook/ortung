{
 "cells": [
  {
   "cell_type": "markdown",
   "metadata": {},
   "source": [
    "# Overview\n",
    "\n",
    "There is also some initial [simple UI](simple_ui.ipynb) (still WIP)."
   ]
  },
  {
   "cell_type": "code",
   "execution_count": 1,
   "metadata": {},
   "outputs": [],
   "source": [
    "from os.path import expanduser\n",
    "import subprocess"
   ]
  },
  {
   "cell_type": "code",
   "execution_count": 2,
   "metadata": {},
   "outputs": [
    {
     "name": "stdout",
     "output_type": "stream",
     "text": [
      "________ _____________________\n",
      "\\_____  \\\\______   \\__    ___/ the OSS Review Toolkit, version 0.1.0-SNAPSHOT.\n",
      " /   |   \\|       _/ |    |    Running using Java 11.0.1-internal on Linux with\n",
      "/    |    \\    |   \\ |    |    ORT_USER_HOME = /home/jovyan/.ort\n",
      "\\_______  /____|_  / |____|    SHELL = /bin/bash\n",
      "        \\/       \\/\n",
      "More environment variables:\n",
      "TERM = xterm-color\n",
      "JAVA_HOME = /srv/conda/envs/notebook\n",
      "\n",
      "\n"
     ]
    }
   ],
   "source": [
    "ort = expanduser(\"~/oss-review-toolkit/cli/build/install/ort/bin/ort\")\n",
    "out = subprocess.check_output([ort, \"--version\"])\n",
    "print(out.decode(\"utf-8\"))"
   ]
  }
 ],
 "metadata": {
  "kernelspec": {
   "display_name": "Python 3",
   "language": "python",
   "name": "python3"
  },
  "language_info": {
   "codemirror_mode": {
    "name": "ipython",
    "version": 3
   },
   "file_extension": ".py",
   "mimetype": "text/x-python",
   "name": "python",
   "nbconvert_exporter": "python",
   "pygments_lexer": "ipython3",
   "version": "3.7.6"
  }
 },
 "nbformat": 4,
 "nbformat_minor": 4
}
