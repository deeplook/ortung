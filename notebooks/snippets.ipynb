{
 "cells": [
  {
   "cell_type": "markdown",
   "metadata": {},
   "source": [
    "# Snippets"
   ]
  },
  {
   "cell_type": "markdown",
   "metadata": {},
   "source": [
    "## Button callbacks and output spinners"
   ]
  },
  {
   "cell_type": "code",
   "execution_count": null,
   "metadata": {},
   "outputs": [],
   "source": [
    "import ipywidgets as widgets\n",
    "from IPython.display import display\n",
    "\n",
    "button = widgets.Button(description=\"Click Me!\")\n",
    "output = widgets.Output()\n",
    "display(button, output)\n",
    "\n",
    "def on_button_clicked(b):\n",
    "    with output:\n",
    "        print(\"Button clicked.\")\n",
    "\n",
    "button.on_click(on_button_clicked)"
   ]
  },
  {
   "cell_type": "code",
   "execution_count": null,
   "metadata": {},
   "outputs": [],
   "source": [
    "import time\n",
    "from halo import HaloNotebook\n",
    "\n",
    "dur = 5\n",
    "with HaloNotebook(text=f'Waiting {dur} secs...', spinner='dots'):\n",
    "    time.sleep(dur)"
   ]
  },
  {
   "cell_type": "code",
   "execution_count": null,
   "metadata": {},
   "outputs": [],
   "source": [
    "import time\n",
    "import ipywidgets as widgets\n",
    "from IPython.display import display\n",
    "from halo import HaloNotebook\n",
    "\n",
    "button = widgets.Button(description=\"Click Me!\")\n",
    "output = widgets.Output()\n",
    "display(button, output)\n",
    "\n",
    "@output.capture()\n",
    "def on_button_clicked(b):\n",
    "    dur = 5\n",
    "    with HaloNotebook(text=f'Waiting {dur} secs...', spinner='dots'):\n",
    "        time.sleep(dur)\n",
    "\n",
    "button.on_click(on_button_clicked)"
   ]
  },
  {
   "cell_type": "markdown",
   "metadata": {},
   "source": [
    "## Print continuous output"
   ]
  },
  {
   "cell_type": "code",
   "execution_count": null,
   "metadata": {},
   "outputs": [],
   "source": [
    "import subprocess\n",
    "import ipywidgets as widgets\n",
    "from IPython.display import display\n",
    "\n",
    "output = widgets.Output()\n",
    "display(output)\n",
    "proc = subprocess.Popen(\n",
    "    [\"ping\", \"localhost\"], \n",
    "    stdout=subprocess.PIPE, \n",
    "    stderr=subprocess.PIPE)\n",
    "\n",
    "while proc.poll() is None:\n",
    "    line = proc.stdout.readline().decode(\"utf-8\")\n",
    "    with output:\n",
    "        print(line.strip())"
   ]
  },
  {
   "cell_type": "markdown",
   "metadata": {},
   "source": [
    "## Styling\n",
    "\n",
    "Sadly, this seems not to work for `ipywidgets.Text` as it has no `style` atteibute."
   ]
  },
  {
   "cell_type": "code",
   "execution_count": null,
   "metadata": {},
   "outputs": [],
   "source": [
    "import ipywidgets\n",
    "data_input_style = \"<style>.data_input input { background-color:#D0F0D0 !important; }</style>\"\n",
    "value_entry = ipywidgets.Text(value='')\n",
    "value_entry.add_class('data_input')\n",
    "\n",
    "children = [\n",
    "    ipywidgets.HTML(data_input_style),\n",
    "    value_entry,\n",
    "]\n",
    "ipywidgets.VBox(children=children)"
   ]
  }
 ],
 "metadata": {
  "kernelspec": {
   "display_name": "Python 3",
   "language": "python",
   "name": "python3"
  },
  "language_info": {
   "codemirror_mode": {
    "name": "ipython",
    "version": 3
   },
   "file_extension": ".py",
   "mimetype": "text/x-python",
   "name": "python",
   "nbconvert_exporter": "python",
   "pygments_lexer": "ipython3",
   "version": "3.7.3"
  },
  "nteract": {
   "version": "0.15.0"
  }
 },
 "nbformat": 4,
 "nbformat_minor": 4
}
